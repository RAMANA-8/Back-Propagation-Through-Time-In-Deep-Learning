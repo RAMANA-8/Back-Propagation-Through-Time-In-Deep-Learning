{
  "cells": [
    {
      "cell_type": "code",
      "execution_count": null,
      "id": "0415e2fc",
      "metadata": {
        "id": "0415e2fc",
        "outputId": "a73a3808-7f47-4701-c4e7-aa050a189172"
      },
      "outputs": [
        {
          "name": "stdout",
          "output_type": "stream",
          "text": [
            "Epoch 1/10\n",
            "25/25 [==============================] - 2s 18ms/step - loss: 23.7711 - val_loss: 16.0624\n",
            "Epoch 2/10\n",
            "25/25 [==============================] - 0s 5ms/step - loss: 3.9729 - val_loss: 1.1748\n",
            "Epoch 3/10\n",
            "25/25 [==============================] - 0s 4ms/step - loss: 0.4700 - val_loss: 0.3081\n",
            "Epoch 4/10\n",
            "25/25 [==============================] - 0s 4ms/step - loss: 0.3001 - val_loss: 0.2743\n",
            "Epoch 5/10\n",
            "25/25 [==============================] - 0s 5ms/step - loss: 0.2736 - val_loss: 0.2608\n",
            "Epoch 6/10\n",
            "25/25 [==============================] - 0s 5ms/step - loss: 0.2642 - val_loss: 0.2469\n",
            "Epoch 7/10\n",
            "25/25 [==============================] - 0s 4ms/step - loss: 0.2435 - val_loss: 0.2280\n",
            "Epoch 8/10\n",
            "25/25 [==============================] - 0s 5ms/step - loss: 0.2375 - val_loss: 0.2180\n",
            "Epoch 9/10\n",
            "25/25 [==============================] - 0s 6ms/step - loss: 0.2169 - val_loss: 0.2034\n",
            "Epoch 10/10\n",
            "25/25 [==============================] - 0s 5ms/step - loss: 0.2103 - val_loss: 0.1987\n",
            "32/32 [==============================] - 0s 3ms/step - loss: 0.2046\n",
            "Test Loss: 0.2045896053314209\n"
          ]
        }
      ],
      "source": [
        "import numpy as np\n",
        "import tensorflow as tf\n",
        "from tensorflow.keras.models import Sequential\n",
        "from tensorflow.keras.layers import SimpleRNN, Dense\n",
        "from tensorflow.keras.optimizers import Adam\n",
        "\n",
        "# Sample data\n",
        "def generate_data(seq_length, num_samples):\n",
        "    X = np.random.rand(num_samples, seq_length, 1)  # Random data\n",
        "    y = np.sum(X, axis=1)  # Target is the sum of the sequence\n",
        "    return X, y\n",
        "\n",
        "# Parameters\n",
        "seq_length = 10\n",
        "num_samples = 1000\n",
        "\n",
        "# Generate data\n",
        "X_train, y_train = generate_data(seq_length, num_samples)\n",
        "X_test, y_test = generate_data(seq_length, num_samples)\n",
        "\n",
        "# Define the RNN model\n",
        "model = Sequential()\n",
        "model.add(SimpleRNN(50, activation='relu', input_shape=(seq_length, 1)))\n",
        "model.add(Dense(1))\n",
        "model.compile(optimizer=Adam(), loss='mse')\n",
        "\n",
        "# Train the model\n",
        "model.fit(X_train, y_train, epochs=10, batch_size=32, validation_split=0.2)\n",
        "\n",
        "# Evaluate the model\n",
        "loss = model.evaluate(X_test, y_test)\n",
        "print(f'Test Loss: {loss}')\n"
      ]
    }
  ],
  "metadata": {
    "kernelspec": {
      "display_name": "Python 3 (ipykernel)",
      "language": "python",
      "name": "python3"
    },
    "language_info": {
      "codemirror_mode": {
        "name": "ipython",
        "version": 3
      },
      "file_extension": ".py",
      "mimetype": "text/x-python",
      "name": "python",
      "nbconvert_exporter": "python",
      "pygments_lexer": "ipython3",
      "version": "3.9.12"
    },
    "colab": {
      "provenance": []
    }
  },
  "nbformat": 4,
  "nbformat_minor": 5
}